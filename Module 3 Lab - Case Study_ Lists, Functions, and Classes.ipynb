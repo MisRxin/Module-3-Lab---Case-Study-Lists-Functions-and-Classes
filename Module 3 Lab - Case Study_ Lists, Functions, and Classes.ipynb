{
 "cells": [
  {
   "cell_type": "markdown",
   "id": "55354e9c-a0b5-451d-8a25-b2722c65b562",
   "metadata": {},
   "source": [
    "Module 3 Lab - Case Study: Lists, Functions, and Classes\n"
   ]
  },
  {
   "cell_type": "code",
   "execution_count": null,
   "id": "e8db754f-e701-4f5e-8f40-85aa9a445daf",
   "metadata": {},
   "outputs": [],
   "source": [
    "class Vehicle:\n",
    "    def __init__(self, vehicle_type):\n",
    "        self.vehicle_type = vehicle_type\n",
    "\n",
    "class Automobile(Vehicle):\n",
    "    def __init__(self, vehicle_type, year, make, model, doors, roof):\n",
    "        super().__init__(vehicle_type)\n",
    "        self.year = year\n",
    "        self.make = make\n",
    "        self.model = model\n",
    "        self.doors = doors\n",
    "        self.roof = roof\n",
    "\n",
    "\n",
    "def main():\n",
    "    vehicle_type = \"car\"\n",
    "\n",
    "    # User data\n",
    "    year = input(\"Year of car?: \")\n",
    "    make = input(\"Make of car?: \")\n",
    "    model = input(\"Car model?: \")\n",
    "    doors = input(\"How many door? (2 or 4): \")\n",
    "    roof = input(\"What kind of roof (solid or sun roof): \")\n",
    "\n",
    "    car = Automobile(vehicle_type, year, make, model, doors, roof)\n",
    "\n",
    "    # Print Car Discription\n",
    "    print(\"\\nCar Discription:\")\n",
    "    print(f\"  Car type : {car.vehicle_type}\")\n",
    "    print(f\"  Year : {car.year}\")\n",
    "    print(f\"  Make : {car.make}\")\n",
    "    print(f\"  Model : {car.model}\")\n",
    "    print(f\"  Number of doors : {car.doors}\")\n",
    "    print(f\"  Type of roof : {car.roof}\")\n",
    "\n",
    "if __name__ == \"__main__\":\n",
    "    main()"
   ]
  }
 ],
 "metadata": {
  "kernelspec": {
   "display_name": "Python 3 (ipykernel)",
   "language": "python",
   "name": "python3"
  },
  "language_info": {
   "codemirror_mode": {
    "name": "ipython",
    "version": 3
   },
   "file_extension": ".py",
   "mimetype": "text/x-python",
   "name": "python",
   "nbconvert_exporter": "python",
   "pygments_lexer": "ipython3",
   "version": "3.12.4"
  }
 },
 "nbformat": 4,
 "nbformat_minor": 5
}
